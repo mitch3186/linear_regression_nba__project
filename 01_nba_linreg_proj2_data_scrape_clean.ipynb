{
 "cells": [
  {
   "cell_type": "markdown",
   "metadata": {},
   "source": [
    "# Minnesota T-Pups Plus/Minus Web scraping & cleaning\n",
    "##### By: Mitch Brinkman"
   ]
  },
  {
   "cell_type": "markdown",
   "metadata": {},
   "source": [
    "## Package Import"
   ]
  },
  {
   "cell_type": "code",
   "execution_count": null,
   "metadata": {},
   "outputs": [],
   "source": [
    "from bs4 import BeautifulSoup\n",
    "import requests"
   ]
  },
  {
   "cell_type": "code",
   "execution_count": null,
   "metadata": {},
   "outputs": [],
   "source": [
    "import pandas as pd\n",
    "import numpy as np\n",
    "import datetime as dt\n",
    "import matplotlib.pyplot as plt\n",
    "import seaborn as sns\n",
    "import statsmodels.formula.api as smf\n",
    "import patsy\n",
    "\n",
    "\n",
    "%matplotlib inline\n",
    "from sklearn.linear_model import LinearRegression\n",
    "from sklearn.linear_model import RidgeCV\n",
    "from sklearn.metrics import mean_squared_error, r2_score\n",
    "from sklearn.model_selection import train_test_split"
   ]
  },
  {
   "cell_type": "code",
   "execution_count": null,
   "metadata": {},
   "outputs": [],
   "source": [
    "from bball_func import*"
   ]
  },
  {
   "cell_type": "markdown",
   "metadata": {},
   "source": [
    "## Web Data Scrape & Clean"
   ]
  },
  {
   "cell_type": "code",
   "execution_count": null,
   "metadata": {},
   "outputs": [],
   "source": [
    "#reference list for URL execution of functions\n",
    "offset_vals = [0,100,200,300,400,500,600]"
   ]
  },
  {
   "cell_type": "code",
   "execution_count": null,
   "metadata": {},
   "outputs": [],
   "source": [
    "#web scraping data from basketball-reference.com\n",
    "\n",
    "trad_df = get_trad_data(offset_vals)"
   ]
  },
  {
   "cell_type": "code",
   "execution_count": null,
   "metadata": {},
   "outputs": [],
   "source": [
    "#web scraping additional data from basketball-reference.com\n",
    "\n",
    "non_score_df = get_non_score_data(offset_vals)"
   ]
  },
  {
   "cell_type": "code",
   "execution_count": null,
   "metadata": {},
   "outputs": [],
   "source": [
    "trad_df.sort_values('Date', axis=0, ascending=True, inplace=True)\n",
    "trad_df.head()"
   ]
  },
  {
   "cell_type": "code",
   "execution_count": null,
   "metadata": {},
   "outputs": [],
   "source": [
    "non_score_df.sort_values('Date', axis=0, ascending=True, inplace=True)\n",
    "non_score_df.head()"
   ]
  },
  {
   "cell_type": "code",
   "execution_count": null,
   "metadata": {},
   "outputs": [],
   "source": [
    "#unnecessary data that gets the trim\n",
    "\n",
    "drop_columns(['Tm', 'Result', 'MP', 'TRB%',\n",
    "       'AST%', 'STL%', 'BLK%', 'TOV%', 'FG', 'FGA', 'FG%', '2PA', '2P%',\n",
    "        '3PA', '3P%', 'FTA', 'FT%', 'PTS', 'STL', 'BLK',\n",
    "        'ORB%.1', 'TRB%.1', 'AST%.1', 'STL%.1', 'BLK%.1', 'TOV%.1',\n",
    "       'FG.1', 'FGA.1', 'FG%.1', '2PA.1', '2P%.1', '3PA.1',\n",
    "       '3P%.1', 'FTA.1', 'FT%.1', 'PTS.1', 'AST.1', 'STL.1', 'BLK.1',\n",
    "         'ORB%.2', 'TRB%.2', 'AST%.2', 'STL%.2', 'BLK%.2',\n",
    "       'TOV%.2', 'FG.2', 'FGA.2', 'FG%.2', '2P.2', '2PA.2', '2P%.2', '3P.2',\n",
    "       '3PA.2', '3P%.2', 'FT.2', 'FTA.2', 'FT%.2', 'AST.2', 'STL.2',\n",
    "       'BLK.2', 'TOV.2', 'PF.2'],trad_df)"
   ]
  },
  {
   "cell_type": "code",
   "execution_count": null,
   "metadata": {},
   "outputs": [],
   "source": [
    "drop_columns(['Tm', 'Result', 'MP', 'ORB', 'TRB',\n",
    "       'AST', 'STL', 'BLK', 'TOV', 'PF', 'ORB.1', 'DRB.1', 'TRB.1', 'AST.1',\n",
    "       'STL.1', 'BLK.1', 'TOV.1', 'PF.1'],non_score_df)"
   ]
  },
  {
   "cell_type": "markdown",
   "metadata": {},
   "source": [
    "## Merging Dataframes - Further Cleaning"
   ]
  },
  {
   "cell_type": "code",
   "execution_count": null,
   "metadata": {},
   "outputs": [],
   "source": [
    "data_table = pd.merge(trad_df,non_score_df,how='inner',on=['Date','Unnamed: 3','Opp'])"
   ]
  },
  {
   "cell_type": "code",
   "execution_count": null,
   "metadata": {},
   "outputs": [],
   "source": [
    "data_table.tail()"
   ]
  },
  {
   "cell_type": "code",
   "execution_count": null,
   "metadata": {},
   "outputs": [],
   "source": [
    "#deleting last pesky row that was holding on and causing errors down the road\n",
    "\n",
    "data_table = data_table[:-1]"
   ]
  },
  {
   "cell_type": "code",
   "execution_count": null,
   "metadata": {},
   "outputs": [],
   "source": [
    "data_table.columns"
   ]
  },
  {
   "cell_type": "code",
   "execution_count": null,
   "metadata": {},
   "outputs": [],
   "source": [
    "#differentiating between MIN and opponents' stat lines\n",
    "\n",
    "opp_col_rename(['FT.1', '3P.1',\n",
    "       'AST.1', 'TOV.1','2P.1','PF.1','AST%.1'],data_table)"
   ]
  },
  {
   "cell_type": "code",
   "execution_count": null,
   "metadata": {},
   "outputs": [],
   "source": [
    "data_table.rename(columns={'Unnamed: 3':'Home','PTS.2':'Plus_Minus','PF.2':'Foul_Diff','ORB%':'orb_pct'}, inplace = True)\n",
    "data_table.columns = map(str.lower, data_table.columns)\n",
    "data_table.columns = data_table.columns.str.replace(\" \",\"_\")"
   ]
  },
  {
   "cell_type": "code",
   "execution_count": null,
   "metadata": {},
   "outputs": [],
   "source": [
    "#renaming of 2p & 3p columns as these arguments wouldn't take in above cell for whatever reason\n",
    "\n",
    "data_table.rename(columns={'2p':'_2p','3p':'_3p'}, inplace = True)"
   ]
  },
  {
   "cell_type": "code",
   "execution_count": null,
   "metadata": {},
   "outputs": [],
   "source": [
    "#converting Home/Away column from string and null to 1's and 0's.\n",
    "\n",
    "data_table['home'].fillna(1, inplace=True)\n",
    "data_table.replace(to_replace='@',value=0, inplace=True)"
   ]
  },
  {
   "cell_type": "code",
   "execution_count": null,
   "metadata": {},
   "outputs": [],
   "source": [
    "data_table['date'] = pd.to_datetime(data_table['date'])"
   ]
  },
  {
   "cell_type": "code",
   "execution_count": null,
   "metadata": {},
   "outputs": [],
   "source": [
    "data_table['days_rest'] = data_table['date'].diff().dt.days -1\n",
    "data_table['days_rest'].values[data_table['days_rest'].values > 10] = 0\n",
    "data_table['days_rest'].fillna(0, inplace=True)"
   ]
  },
  {
   "cell_type": "code",
   "execution_count": null,
   "metadata": {},
   "outputs": [],
   "source": [
    "data_table.columns"
   ]
  },
  {
   "cell_type": "code",
   "execution_count": null,
   "metadata": {},
   "outputs": [],
   "source": [
    "#Converting statistics to integers from object\n",
    "\n",
    "make_integers(['home','_2p', '_3P', 'ft', 'ast', 'tov',\n",
    "       'pf', 'opp_2p.1', 'opp_3p.1', 'opp_ft.1', 'opp_tov.1', 'opp_pf.1',\n",
    "       'plus_minus', 'drb'], data_table)"
   ]
  },
  {
   "cell_type": "code",
   "execution_count": null,
   "metadata": {},
   "outputs": [],
   "source": [
    "#Converting ORB% to float from object to maintain integrity of the percentage\n",
    "\n",
    "float_names = ['orb_pct']\n",
    "for name in float_names:\n",
    "    data_table[name] = data_table[name].astype(float)"
   ]
  },
  {
   "cell_type": "code",
   "execution_count": null,
   "metadata": {},
   "outputs": [],
   "source": [
    "#saving all the work that's been done!\n",
    "\n",
    "data_table.to_pickle('NBA_data_table.pickle')"
   ]
  },
  {
   "cell_type": "markdown",
   "metadata": {},
   "source": [
    "## Rolling Average Data Table"
   ]
  },
  {
   "cell_type": "code",
   "execution_count": null,
   "metadata": {},
   "outputs": [],
   "source": [
    "data_table.columns"
   ]
  },
  {
   "cell_type": "code",
   "execution_count": null,
   "metadata": {},
   "outputs": [],
   "source": [
    "#selecting the data table to move forward with to create the rolling average table\n",
    "\n",
    "avg_data_table = data_table.loc[:,[ 'date', 'plus_minus','home', 'opp', 'orb_pct', '_2p', '_3P', 'ft', 'ast', 'tov',\n",
    "       'pf','drb', 'opp_2p.1', 'opp_3p.1', 'opp_ft.1', 'opp_tov.1', 'opp_pf.1',\n",
    "       'days_rest']]"
   ]
  },
  {
   "cell_type": "code",
   "execution_count": null,
   "metadata": {},
   "outputs": [],
   "source": [
    "#Restricting float outputs to two decimal places for easier reading\n",
    "\n",
    "pd.options.display.float_format = \"{:,.2f}\".format"
   ]
  },
  {
   "cell_type": "code",
   "execution_count": null,
   "metadata": {},
   "outputs": [],
   "source": [
    "avg_data_table.head(10)"
   ]
  },
  {
   "cell_type": "code",
   "execution_count": null,
   "metadata": {},
   "outputs": [],
   "source": [
    "#Creating multiple columns for 5 game rolling averages\n",
    "\n",
    "avg_data_table['orb_pct avg'] = avg_data_table.orb_pct.rolling(5,min_periods=1).mean()\n",
    "avg_data_table['_2p_avg'] = avg_data_table._2p.rolling(5,min_periods=1).mean()\n",
    "avg_data_table['_3p_avg'] = avg_data_table._3P.rolling(5,min_periods=1).mean()\n",
    "avg_data_table['ft_avg'] = avg_data_table.ft.rolling(5,min_periods=1).mean()\n",
    "avg_data_table['ast_avg'] = avg_data_table.ast.rolling(5,min_periods=1).mean()\n",
    "avg_data_table['tov_avg'] = avg_data_table.tov.rolling(5,min_periods=1).mean()\n",
    "avg_data_table['pf_avg'] = avg_data_table.pf.rolling(5,min_periods=1).mean()\n",
    "avg_data_table['opp_2p_avg'] = avg_data_table['opp_2p.1'].rolling(5,min_periods=1).mean()\n",
    "avg_data_table['opp_3p_avg'] = avg_data_table['opp_3p.1'].rolling(5,min_periods=1).mean()\n",
    "avg_data_table['opp_ft_avg'] = avg_data_table['opp_ft.1'].rolling(5,min_periods=1).mean()\n",
    "avg_data_table['opp_tov_avg'] = avg_data_table['opp_tov.1'].rolling(5,min_periods=1).mean()\n",
    "avg_data_table['opp_pf_avg'] = avg_data_table['opp_pf.1'].rolling(5,min_periods=1).mean()\n",
    "avg_data_table['drb_avg'] = avg_data_table.drb.rolling(5,min_periods=1).mean()\n"
   ]
  },
  {
   "cell_type": "code",
   "execution_count": null,
   "metadata": {},
   "outputs": [],
   "source": [
    "avg_data_table.to_pickle('avg_data_table.pickle')"
   ]
  },
  {
   "cell_type": "markdown",
   "metadata": {},
   "source": [
    "## EDA on Data"
   ]
  },
  {
   "cell_type": "code",
   "execution_count": null,
   "metadata": {},
   "outputs": [],
   "source": [
    "avg_data_table.columns"
   ]
  },
  {
   "cell_type": "code",
   "execution_count": null,
   "metadata": {},
   "outputs": [],
   "source": [
    "#Stats generated on the offensive possesion of a game by MIN\n",
    "\n",
    "off_data_table = avg_data_table.loc[:,['plus_minus','home','days_rest', 'orb_pct avg', '_2p_avg', '_3p_avg', 'ft_avg',\n",
    "       'ast_avg', 'tov_avg', 'pf_avg','days_rest']]"
   ]
  },
  {
   "cell_type": "code",
   "execution_count": null,
   "metadata": {},
   "outputs": [],
   "source": [
    "#Stats generated on the defensive possesion of a game by MIN\n",
    "\n",
    "def_data_table = avg_data_table.loc[:,['plus_minus','home','opp_2p_avg', 'opp_3p_avg',\n",
    "       'opp_ft_avg', 'opp_tov_avg', 'opp_pf_avg', 'drb_avg','days_rest']]"
   ]
  },
  {
   "cell_type": "code",
   "execution_count": null,
   "metadata": {},
   "outputs": [],
   "source": [
    "pickle_data_table = avg_data_table.loc[:,['date','home','opp','plus_minus','days_rest', 'orb_pct avg', '_2p_avg', '_3p_avg', 'ft_avg',\n",
    "       'ast_avg', 'tov_avg', 'pf_avg','opp_2p_avg', 'opp_3p_avg',\n",
    "       'opp_ft_avg', 'opp_tov_avg', 'opp_pf_avg', 'drb_avg','days_rest']]"
   ]
  },
  {
   "cell_type": "code",
   "execution_count": null,
   "metadata": {},
   "outputs": [],
   "source": [
    "#rolling average only table of all statistics\n",
    "\n",
    "EDA_data_table = avg_data_table.loc[:,['plus_minus','days_rest', 'orb_pct avg', '_2p_avg', '_3p_avg', 'ft_avg',\n",
    "       'ast_avg', 'tov_avg', 'pf_avg','opp_2p_avg', 'opp_3p_avg',\n",
    "       'opp_ft_avg', 'opp_tov_avg', 'opp_pf_avg', 'drb_avg','days_rest']]"
   ]
  },
  {
   "cell_type": "code",
   "execution_count": null,
   "metadata": {},
   "outputs": [],
   "source": [
    "pickle_data_table.to_pickle('final_data_table.pickle')"
   ]
  },
  {
   "cell_type": "code",
   "execution_count": null,
   "metadata": {},
   "outputs": [],
   "source": [
    "sns.lmplot(x='days_rest',y='plus_minus',data=avg_data_table)"
   ]
  },
  {
   "cell_type": "code",
   "execution_count": null,
   "metadata": {},
   "outputs": [],
   "source": [
    "plt.figure(figsize=(15,12))\n",
    "sns.set(font_scale = 1.4)\n",
    "# sns.set_style(\"ticks\",{'xtick.major_size':2})\n",
    "sns.lmplot(data=EDA_data_table, x='drb_avg',y='plus_minus')\n",
    "plt.title('Def Rebounds vs. Plus/Minus')\n",
    "plt.xlabel(\"Def Rebound Avg\")\n",
    "plt.ylabel('Plus / Minus');\n",
    "# plt.savefig('DRBvPTDIFF.png');"
   ]
  },
  {
   "cell_type": "code",
   "execution_count": null,
   "metadata": {},
   "outputs": [],
   "source": [
    "#Offensive statistics heat map\n",
    "\n",
    "plt.figure(figsize=(40,35))\n",
    "sns.heatmap(off_data_table.corr(), cmap=\"seismic\", annot=True, vmin=-1, vmax=1);"
   ]
  },
  {
   "cell_type": "code",
   "execution_count": null,
   "metadata": {},
   "outputs": [],
   "source": [
    "#Defensive statistics heat map\n",
    "\n",
    "plt.figure(figsize=(40,35))\n",
    "sns.heatmap(def_data_table.corr(), cmap=\"seismic\", annot=True, vmin=-1, vmax=1);"
   ]
  },
  {
   "cell_type": "code",
   "execution_count": null,
   "metadata": {},
   "outputs": [],
   "source": [
    "sns.pairplot(EDA_data_table)"
   ]
  },
  {
   "cell_type": "code",
   "execution_count": null,
   "metadata": {},
   "outputs": [],
   "source": [
    "off_data_table.corr()"
   ]
  },
  {
   "cell_type": "code",
   "execution_count": null,
   "metadata": {},
   "outputs": [],
   "source": [
    "def_data_table.corr()"
   ]
  }
 ],
 "metadata": {
  "kernelspec": {
   "display_name": "Python [conda env:metis] *",
   "language": "python",
   "name": "conda-env-metis-py"
  },
  "language_info": {
   "codemirror_mode": {
    "name": "ipython",
    "version": 3
   },
   "file_extension": ".py",
   "mimetype": "text/x-python",
   "name": "python",
   "nbconvert_exporter": "python",
   "pygments_lexer": "ipython3",
   "version": "3.7.4"
  },
  "toc": {
   "base_numbering": 1,
   "nav_menu": {},
   "number_sections": true,
   "sideBar": true,
   "skip_h1_title": false,
   "title_cell": "Table of Contents",
   "title_sidebar": "Contents",
   "toc_cell": false,
   "toc_position": {},
   "toc_section_display": true,
   "toc_window_display": true
  }
 },
 "nbformat": 4,
 "nbformat_minor": 4
}
